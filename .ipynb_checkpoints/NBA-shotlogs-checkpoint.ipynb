{
 "cells": [
  {
   "cell_type": "markdown",
   "id": "1da9df9a",
   "metadata": {},
   "source": [
    "## Names\n",
    "Joseph Moyalan, Kent Hansen, Sahithi Golkonda, Pranay Kalagara"
   ]
  },
  {
   "cell_type": "markdown",
   "id": "cb227a86",
   "metadata": {},
   "source": [
    "# Project : NBA Shotlogs\n",
    "\n",
    "The problem we are trying to solve is to figure out when a player shoots whether or not he will make it. This matters because the results can be helpful for NBA teams to improve player performances on and off the ball. We can also usew this to draft players and to analyze how opponent NBA teams play. We want to predict this to help NBA teams improve their chances of winning and making shots. For this task we will be using the NBA shotlogs dataset, which contains many factors which can relate to whether or not a given shot can go in such as player, distance, shot clock, and closest_defender. This dataset has `128069` instances and `20` attributes (some categorical, some continuous)."
   ]
  },
  {
   "cell_type": "code",
   "execution_count": 66,
   "id": "7893397f",
   "metadata": {},
   "outputs": [],
   "source": [
    "import warnings\n",
    "import pandas as pd\n",
    "import numpy as np\n",
    "import sklearn as sk\n",
    "import matplotlib.pyplot as plt\n",
    "import time\n",
    "import math"
   ]
  },
  {
   "cell_type": "code",
   "execution_count": 67,
   "id": "7bd62a3c",
   "metadata": {},
   "outputs": [],
   "source": [
    "%matplotlib inline"
   ]
  },
  {
   "cell_type": "code",
   "execution_count": 68,
   "id": "b6fdf6bb",
   "metadata": {},
   "outputs": [
    {
     "data": {
      "text/html": [
       "<div>\n",
       "<style scoped>\n",
       "    .dataframe tbody tr th:only-of-type {\n",
       "        vertical-align: middle;\n",
       "    }\n",
       "\n",
       "    .dataframe tbody tr th {\n",
       "        vertical-align: top;\n",
       "    }\n",
       "\n",
       "    .dataframe thead th {\n",
       "        text-align: right;\n",
       "    }\n",
       "</style>\n",
       "<table border=\"1\" class=\"dataframe\">\n",
       "  <thead>\n",
       "    <tr style=\"text-align: right;\">\n",
       "      <th></th>\n",
       "      <th>GAME_ID</th>\n",
       "      <th>MATCHUP</th>\n",
       "      <th>LOCATION</th>\n",
       "      <th>W</th>\n",
       "      <th>FINAL_MARGIN</th>\n",
       "      <th>SHOT_NUMBER</th>\n",
       "      <th>PERIOD</th>\n",
       "      <th>GAME_CLOCK</th>\n",
       "      <th>SHOT_CLOCK</th>\n",
       "      <th>DRIBBLES</th>\n",
       "      <th>...</th>\n",
       "      <th>SHOT_DIST</th>\n",
       "      <th>PTS_TYPE</th>\n",
       "      <th>SHOT_RESULT</th>\n",
       "      <th>CLOSEST_DEFENDER</th>\n",
       "      <th>CLOSEST_DEFENDER_PLAYER_ID</th>\n",
       "      <th>CLOSE_DEF_DIST</th>\n",
       "      <th>FGM</th>\n",
       "      <th>PTS</th>\n",
       "      <th>player_name</th>\n",
       "      <th>player_id</th>\n",
       "    </tr>\n",
       "  </thead>\n",
       "  <tbody>\n",
       "    <tr>\n",
       "      <th>0</th>\n",
       "      <td>21400899</td>\n",
       "      <td>MAR 04, 2015 - CHA @ BKN</td>\n",
       "      <td>A</td>\n",
       "      <td>W</td>\n",
       "      <td>24</td>\n",
       "      <td>1</td>\n",
       "      <td>1</td>\n",
       "      <td>1:09</td>\n",
       "      <td>10.8</td>\n",
       "      <td>2</td>\n",
       "      <td>...</td>\n",
       "      <td>7.7</td>\n",
       "      <td>2</td>\n",
       "      <td>made</td>\n",
       "      <td>Anderson, Alan</td>\n",
       "      <td>101187</td>\n",
       "      <td>1.3</td>\n",
       "      <td>1</td>\n",
       "      <td>2</td>\n",
       "      <td>brian roberts</td>\n",
       "      <td>203148</td>\n",
       "    </tr>\n",
       "    <tr>\n",
       "      <th>1</th>\n",
       "      <td>21400899</td>\n",
       "      <td>MAR 04, 2015 - CHA @ BKN</td>\n",
       "      <td>A</td>\n",
       "      <td>W</td>\n",
       "      <td>24</td>\n",
       "      <td>2</td>\n",
       "      <td>1</td>\n",
       "      <td>0:14</td>\n",
       "      <td>3.4</td>\n",
       "      <td>0</td>\n",
       "      <td>...</td>\n",
       "      <td>28.2</td>\n",
       "      <td>3</td>\n",
       "      <td>missed</td>\n",
       "      <td>Bogdanovic, Bojan</td>\n",
       "      <td>202711</td>\n",
       "      <td>6.1</td>\n",
       "      <td>0</td>\n",
       "      <td>0</td>\n",
       "      <td>brian roberts</td>\n",
       "      <td>203148</td>\n",
       "    </tr>\n",
       "    <tr>\n",
       "      <th>2</th>\n",
       "      <td>21400899</td>\n",
       "      <td>MAR 04, 2015 - CHA @ BKN</td>\n",
       "      <td>A</td>\n",
       "      <td>W</td>\n",
       "      <td>24</td>\n",
       "      <td>3</td>\n",
       "      <td>1</td>\n",
       "      <td>0:00</td>\n",
       "      <td>NaN</td>\n",
       "      <td>3</td>\n",
       "      <td>...</td>\n",
       "      <td>10.1</td>\n",
       "      <td>2</td>\n",
       "      <td>missed</td>\n",
       "      <td>Bogdanovic, Bojan</td>\n",
       "      <td>202711</td>\n",
       "      <td>0.9</td>\n",
       "      <td>0</td>\n",
       "      <td>0</td>\n",
       "      <td>brian roberts</td>\n",
       "      <td>203148</td>\n",
       "    </tr>\n",
       "    <tr>\n",
       "      <th>3</th>\n",
       "      <td>21400899</td>\n",
       "      <td>MAR 04, 2015 - CHA @ BKN</td>\n",
       "      <td>A</td>\n",
       "      <td>W</td>\n",
       "      <td>24</td>\n",
       "      <td>4</td>\n",
       "      <td>2</td>\n",
       "      <td>11:47</td>\n",
       "      <td>10.3</td>\n",
       "      <td>2</td>\n",
       "      <td>...</td>\n",
       "      <td>17.2</td>\n",
       "      <td>2</td>\n",
       "      <td>missed</td>\n",
       "      <td>Brown, Markel</td>\n",
       "      <td>203900</td>\n",
       "      <td>3.4</td>\n",
       "      <td>0</td>\n",
       "      <td>0</td>\n",
       "      <td>brian roberts</td>\n",
       "      <td>203148</td>\n",
       "    </tr>\n",
       "    <tr>\n",
       "      <th>4</th>\n",
       "      <td>21400899</td>\n",
       "      <td>MAR 04, 2015 - CHA @ BKN</td>\n",
       "      <td>A</td>\n",
       "      <td>W</td>\n",
       "      <td>24</td>\n",
       "      <td>5</td>\n",
       "      <td>2</td>\n",
       "      <td>10:34</td>\n",
       "      <td>10.9</td>\n",
       "      <td>2</td>\n",
       "      <td>...</td>\n",
       "      <td>3.7</td>\n",
       "      <td>2</td>\n",
       "      <td>missed</td>\n",
       "      <td>Young, Thaddeus</td>\n",
       "      <td>201152</td>\n",
       "      <td>1.1</td>\n",
       "      <td>0</td>\n",
       "      <td>0</td>\n",
       "      <td>brian roberts</td>\n",
       "      <td>203148</td>\n",
       "    </tr>\n",
       "    <tr>\n",
       "      <th>...</th>\n",
       "      <td>...</td>\n",
       "      <td>...</td>\n",
       "      <td>...</td>\n",
       "      <td>...</td>\n",
       "      <td>...</td>\n",
       "      <td>...</td>\n",
       "      <td>...</td>\n",
       "      <td>...</td>\n",
       "      <td>...</td>\n",
       "      <td>...</td>\n",
       "      <td>...</td>\n",
       "      <td>...</td>\n",
       "      <td>...</td>\n",
       "      <td>...</td>\n",
       "      <td>...</td>\n",
       "      <td>...</td>\n",
       "      <td>...</td>\n",
       "      <td>...</td>\n",
       "      <td>...</td>\n",
       "      <td>...</td>\n",
       "      <td>...</td>\n",
       "    </tr>\n",
       "    <tr>\n",
       "      <th>128064</th>\n",
       "      <td>21400006</td>\n",
       "      <td>OCT 29, 2014 - BKN @ BOS</td>\n",
       "      <td>A</td>\n",
       "      <td>L</td>\n",
       "      <td>-16</td>\n",
       "      <td>5</td>\n",
       "      <td>3</td>\n",
       "      <td>1:52</td>\n",
       "      <td>18.3</td>\n",
       "      <td>5</td>\n",
       "      <td>...</td>\n",
       "      <td>8.7</td>\n",
       "      <td>2</td>\n",
       "      <td>missed</td>\n",
       "      <td>Smart, Marcus</td>\n",
       "      <td>203935</td>\n",
       "      <td>0.8</td>\n",
       "      <td>0</td>\n",
       "      <td>0</td>\n",
       "      <td>jarrett jack</td>\n",
       "      <td>101127</td>\n",
       "    </tr>\n",
       "    <tr>\n",
       "      <th>128065</th>\n",
       "      <td>21400006</td>\n",
       "      <td>OCT 29, 2014 - BKN @ BOS</td>\n",
       "      <td>A</td>\n",
       "      <td>L</td>\n",
       "      <td>-16</td>\n",
       "      <td>6</td>\n",
       "      <td>4</td>\n",
       "      <td>11:28</td>\n",
       "      <td>19.8</td>\n",
       "      <td>4</td>\n",
       "      <td>...</td>\n",
       "      <td>0.6</td>\n",
       "      <td>2</td>\n",
       "      <td>made</td>\n",
       "      <td>Turner, Evan</td>\n",
       "      <td>202323</td>\n",
       "      <td>0.6</td>\n",
       "      <td>1</td>\n",
       "      <td>2</td>\n",
       "      <td>jarrett jack</td>\n",
       "      <td>101127</td>\n",
       "    </tr>\n",
       "    <tr>\n",
       "      <th>128066</th>\n",
       "      <td>21400006</td>\n",
       "      <td>OCT 29, 2014 - BKN @ BOS</td>\n",
       "      <td>A</td>\n",
       "      <td>L</td>\n",
       "      <td>-16</td>\n",
       "      <td>7</td>\n",
       "      <td>4</td>\n",
       "      <td>11:10</td>\n",
       "      <td>23.0</td>\n",
       "      <td>2</td>\n",
       "      <td>...</td>\n",
       "      <td>16.9</td>\n",
       "      <td>2</td>\n",
       "      <td>made</td>\n",
       "      <td>Thornton, Marcus</td>\n",
       "      <td>201977</td>\n",
       "      <td>4.2</td>\n",
       "      <td>1</td>\n",
       "      <td>2</td>\n",
       "      <td>jarrett jack</td>\n",
       "      <td>101127</td>\n",
       "    </tr>\n",
       "    <tr>\n",
       "      <th>128067</th>\n",
       "      <td>21400006</td>\n",
       "      <td>OCT 29, 2014 - BKN @ BOS</td>\n",
       "      <td>A</td>\n",
       "      <td>L</td>\n",
       "      <td>-16</td>\n",
       "      <td>8</td>\n",
       "      <td>4</td>\n",
       "      <td>2:37</td>\n",
       "      <td>9.1</td>\n",
       "      <td>4</td>\n",
       "      <td>...</td>\n",
       "      <td>18.3</td>\n",
       "      <td>2</td>\n",
       "      <td>missed</td>\n",
       "      <td>Bradley, Avery</td>\n",
       "      <td>202340</td>\n",
       "      <td>3.0</td>\n",
       "      <td>0</td>\n",
       "      <td>0</td>\n",
       "      <td>jarrett jack</td>\n",
       "      <td>101127</td>\n",
       "    </tr>\n",
       "    <tr>\n",
       "      <th>128068</th>\n",
       "      <td>21400006</td>\n",
       "      <td>OCT 29, 2014 - BKN @ BOS</td>\n",
       "      <td>A</td>\n",
       "      <td>L</td>\n",
       "      <td>-16</td>\n",
       "      <td>9</td>\n",
       "      <td>4</td>\n",
       "      <td>0:12</td>\n",
       "      <td>NaN</td>\n",
       "      <td>5</td>\n",
       "      <td>...</td>\n",
       "      <td>5.1</td>\n",
       "      <td>2</td>\n",
       "      <td>made</td>\n",
       "      <td>Bradley, Avery</td>\n",
       "      <td>202340</td>\n",
       "      <td>2.3</td>\n",
       "      <td>1</td>\n",
       "      <td>2</td>\n",
       "      <td>jarrett jack</td>\n",
       "      <td>101127</td>\n",
       "    </tr>\n",
       "  </tbody>\n",
       "</table>\n",
       "<p>128069 rows × 21 columns</p>\n",
       "</div>"
      ],
      "text/plain": [
       "         GAME_ID                   MATCHUP LOCATION  W  FINAL_MARGIN  \\\n",
       "0       21400899  MAR 04, 2015 - CHA @ BKN        A  W            24   \n",
       "1       21400899  MAR 04, 2015 - CHA @ BKN        A  W            24   \n",
       "2       21400899  MAR 04, 2015 - CHA @ BKN        A  W            24   \n",
       "3       21400899  MAR 04, 2015 - CHA @ BKN        A  W            24   \n",
       "4       21400899  MAR 04, 2015 - CHA @ BKN        A  W            24   \n",
       "...          ...                       ...      ... ..           ...   \n",
       "128064  21400006  OCT 29, 2014 - BKN @ BOS        A  L           -16   \n",
       "128065  21400006  OCT 29, 2014 - BKN @ BOS        A  L           -16   \n",
       "128066  21400006  OCT 29, 2014 - BKN @ BOS        A  L           -16   \n",
       "128067  21400006  OCT 29, 2014 - BKN @ BOS        A  L           -16   \n",
       "128068  21400006  OCT 29, 2014 - BKN @ BOS        A  L           -16   \n",
       "\n",
       "        SHOT_NUMBER  PERIOD GAME_CLOCK  SHOT_CLOCK  DRIBBLES  ...  SHOT_DIST  \\\n",
       "0                 1       1       1:09        10.8         2  ...        7.7   \n",
       "1                 2       1       0:14         3.4         0  ...       28.2   \n",
       "2                 3       1       0:00         NaN         3  ...       10.1   \n",
       "3                 4       2      11:47        10.3         2  ...       17.2   \n",
       "4                 5       2      10:34        10.9         2  ...        3.7   \n",
       "...             ...     ...        ...         ...       ...  ...        ...   \n",
       "128064            5       3       1:52        18.3         5  ...        8.7   \n",
       "128065            6       4      11:28        19.8         4  ...        0.6   \n",
       "128066            7       4      11:10        23.0         2  ...       16.9   \n",
       "128067            8       4       2:37         9.1         4  ...       18.3   \n",
       "128068            9       4       0:12         NaN         5  ...        5.1   \n",
       "\n",
       "        PTS_TYPE  SHOT_RESULT   CLOSEST_DEFENDER CLOSEST_DEFENDER_PLAYER_ID  \\\n",
       "0              2         made     Anderson, Alan                     101187   \n",
       "1              3       missed  Bogdanovic, Bojan                     202711   \n",
       "2              2       missed  Bogdanovic, Bojan                     202711   \n",
       "3              2       missed      Brown, Markel                     203900   \n",
       "4              2       missed    Young, Thaddeus                     201152   \n",
       "...          ...          ...                ...                        ...   \n",
       "128064         2       missed      Smart, Marcus                     203935   \n",
       "128065         2         made       Turner, Evan                     202323   \n",
       "128066         2         made   Thornton, Marcus                     201977   \n",
       "128067         2       missed     Bradley, Avery                     202340   \n",
       "128068         2         made     Bradley, Avery                     202340   \n",
       "\n",
       "        CLOSE_DEF_DIST  FGM  PTS    player_name player_id  \n",
       "0                  1.3    1    2  brian roberts    203148  \n",
       "1                  6.1    0    0  brian roberts    203148  \n",
       "2                  0.9    0    0  brian roberts    203148  \n",
       "3                  3.4    0    0  brian roberts    203148  \n",
       "4                  1.1    0    0  brian roberts    203148  \n",
       "...                ...  ...  ...            ...       ...  \n",
       "128064             0.8    0    0   jarrett jack    101127  \n",
       "128065             0.6    1    2   jarrett jack    101127  \n",
       "128066             4.2    1    2   jarrett jack    101127  \n",
       "128067             3.0    0    0   jarrett jack    101127  \n",
       "128068             2.3    1    2   jarrett jack    101127  \n",
       "\n",
       "[128069 rows x 21 columns]"
      ]
     },
     "execution_count": 68,
     "metadata": {},
     "output_type": "execute_result"
    }
   ],
   "source": [
    "raw_data = pd.read_csv(\"shot_logs.csv\")\n",
    "raw_data"
   ]
  },
  {
   "cell_type": "markdown",
   "id": "99553957",
   "metadata": {},
   "source": [
    "### A. Data prep"
   ]
  },
  {
   "cell_type": "code",
   "execution_count": 97,
   "id": "024d2b28",
   "metadata": {},
   "outputs": [
    {
     "data": {
      "text/html": [
       "<div>\n",
       "<style scoped>\n",
       "    .dataframe tbody tr th:only-of-type {\n",
       "        vertical-align: middle;\n",
       "    }\n",
       "\n",
       "    .dataframe tbody tr th {\n",
       "        vertical-align: top;\n",
       "    }\n",
       "\n",
       "    .dataframe thead th {\n",
       "        text-align: right;\n",
       "    }\n",
       "</style>\n",
       "<table border=\"1\" class=\"dataframe\">\n",
       "  <thead>\n",
       "    <tr style=\"text-align: right;\">\n",
       "      <th></th>\n",
       "      <th>HOME/AWAY</th>\n",
       "      <th>WIN/LOSS</th>\n",
       "      <th>SHOT_NUMBER</th>\n",
       "      <th>PERIOD</th>\n",
       "      <th>GAME_CLOCK</th>\n",
       "      <th>SHOT_CLOCK</th>\n",
       "      <th>TOUCH_TIME</th>\n",
       "      <th>SHOT_DIST</th>\n",
       "      <th>PTS_TYPE</th>\n",
       "      <th>CLOSE_DEF_DIST</th>\n",
       "      <th>player_name</th>\n",
       "    </tr>\n",
       "  </thead>\n",
       "  <tbody>\n",
       "    <tr>\n",
       "      <th>0</th>\n",
       "      <td>0</td>\n",
       "      <td>1</td>\n",
       "      <td>1</td>\n",
       "      <td>1</td>\n",
       "      <td>1:09</td>\n",
       "      <td>10.8</td>\n",
       "      <td>1.9</td>\n",
       "      <td>7.7</td>\n",
       "      <td>2</td>\n",
       "      <td>1.3</td>\n",
       "      <td>brian roberts</td>\n",
       "    </tr>\n",
       "    <tr>\n",
       "      <th>1</th>\n",
       "      <td>0</td>\n",
       "      <td>1</td>\n",
       "      <td>2</td>\n",
       "      <td>1</td>\n",
       "      <td>0:14</td>\n",
       "      <td>3.4</td>\n",
       "      <td>0.8</td>\n",
       "      <td>28.2</td>\n",
       "      <td>3</td>\n",
       "      <td>6.1</td>\n",
       "      <td>brian roberts</td>\n",
       "    </tr>\n",
       "    <tr>\n",
       "      <th>2</th>\n",
       "      <td>0</td>\n",
       "      <td>1</td>\n",
       "      <td>3</td>\n",
       "      <td>1</td>\n",
       "      <td>0:00</td>\n",
       "      <td>0.0</td>\n",
       "      <td>2.7</td>\n",
       "      <td>10.1</td>\n",
       "      <td>2</td>\n",
       "      <td>0.9</td>\n",
       "      <td>brian roberts</td>\n",
       "    </tr>\n",
       "    <tr>\n",
       "      <th>3</th>\n",
       "      <td>0</td>\n",
       "      <td>1</td>\n",
       "      <td>4</td>\n",
       "      <td>2</td>\n",
       "      <td>11:47</td>\n",
       "      <td>10.3</td>\n",
       "      <td>1.9</td>\n",
       "      <td>17.2</td>\n",
       "      <td>2</td>\n",
       "      <td>3.4</td>\n",
       "      <td>brian roberts</td>\n",
       "    </tr>\n",
       "    <tr>\n",
       "      <th>4</th>\n",
       "      <td>0</td>\n",
       "      <td>1</td>\n",
       "      <td>5</td>\n",
       "      <td>2</td>\n",
       "      <td>10:34</td>\n",
       "      <td>10.9</td>\n",
       "      <td>2.7</td>\n",
       "      <td>3.7</td>\n",
       "      <td>2</td>\n",
       "      <td>1.1</td>\n",
       "      <td>brian roberts</td>\n",
       "    </tr>\n",
       "  </tbody>\n",
       "</table>\n",
       "</div>"
      ],
      "text/plain": [
       "   HOME/AWAY  WIN/LOSS  SHOT_NUMBER  PERIOD GAME_CLOCK  SHOT_CLOCK  \\\n",
       "0          0         1            1       1       1:09        10.8   \n",
       "1          0         1            2       1       0:14         3.4   \n",
       "2          0         1            3       1       0:00         0.0   \n",
       "3          0         1            4       2      11:47        10.3   \n",
       "4          0         1            5       2      10:34        10.9   \n",
       "\n",
       "   TOUCH_TIME  SHOT_DIST  PTS_TYPE  CLOSE_DEF_DIST    player_name  \n",
       "0         1.9        7.7         2             1.3  brian roberts  \n",
       "1         0.8       28.2         3             6.1  brian roberts  \n",
       "2         2.7       10.1         2             0.9  brian roberts  \n",
       "3         1.9       17.2         2             3.4  brian roberts  \n",
       "4         2.7        3.7         2             1.1  brian roberts  "
      ]
     },
     "execution_count": 97,
     "metadata": {},
     "output_type": "execute_result"
    }
   ],
   "source": [
    "#Drop fields\n",
    "col_names_drop = [\"GAME_ID\", \"MATCHUP\", \"FINAL_MARGIN\", \"DRIBBLES\", \"CLOSEST_DEFENDER_PLAYER_ID\", \"CLOSEST_DEFENDER\", \"SHOT_RESULT\", \"PTS\", \"player_id\"]\n",
    "data = raw_data.drop(labels = col_names_drop, axis = 1)\n",
    "data = data[data[\"TOUCH_TIME\"] >= 0]\n",
    "\n",
    "#Get rid of NaN\n",
    "new_shot_clock = []\n",
    "for index, row in data.iterrows():\n",
    "    if math.isnan(row['SHOT_CLOCK']):\n",
    "        new_shot_clock.append(float(row[\"GAME_CLOCK\"].split(\":\")[1]))\n",
    "    else:\n",
    "        new_shot_clock.append(row[\"SHOT_CLOCK\"])\n",
    "data['SHOT_CLOCK'] = new_shot_clock\n",
    "    \n",
    "#Rename FGM to Label\n",
    "data = data.rename(columns = {\"FGM\" : \"Label\"})\n",
    "data = data.rename(columns = {\"W\" : \"WIN/LOSS\"})\n",
    "data = data.rename(columns = {\"LOCATION\" : \"HOME/AWAY\"})\n",
    "\n",
    "#Drop duplicates\n",
    "data.drop_duplicates(inplace = True)\n",
    "\n",
    "#Change values for WIN/LOSS and HOME/AWAY to Boolean\n",
    "data[\"WIN/LOSS\"].replace({\"W\" : 1, \"L\" : 0}, inplace = True)\n",
    "data[\"HOME/AWAY\"].replace({\"H\" : 1, \"A\" : 0}, inplace = True)\n",
    "\n",
    "#Get label and feture\n",
    "labels = data.iloc[:, 10]\n",
    "features = data.drop(labels = [\"Label\"], axis = 1)\n",
    "features.head()"
   ]
  },
  {
   "cell_type": "code",
   "execution_count": 99,
   "id": "2580c913",
   "metadata": {},
   "outputs": [
    {
     "name": "stdout",
     "output_type": "stream",
     "text": [
      "HOME/AWAY 0\n",
      "WIN/LOSS 0\n",
      "SHOT_NUMBER 0\n",
      "PERIOD 0\n",
      "GAME_CLOCK 0\n",
      "SHOT_CLOCK 0\n",
      "TOUCH_TIME 0\n",
      "SHOT_DIST 0\n",
      "PTS_TYPE 0\n",
      "CLOSE_DEF_DIST 0\n",
      "player_name 0\n"
     ]
    }
   ],
   "source": [
    "# checking attributes for NaN values\n",
    "for col in features.columns:\n",
    "    print(col, len(features[features[col].isna() == True]))"
   ]
  },
  {
   "cell_type": "markdown",
   "id": "cf520725",
   "metadata": {},
   "source": [
    "### B. Data Exploration"
   ]
  },
  {
   "cell_type": "code",
   "execution_count": 100,
   "id": "24c83122",
   "metadata": {},
   "outputs": [
    {
     "data": {
      "text/plain": [
       "<AxesSubplot:title={'center':'Shot Distance Outliers'}>"
      ]
     },
     "execution_count": 100,
     "metadata": {},
     "output_type": "execute_result"
    },
    {
     "data": {
      "image/png": "[encoded data removed]",
      "text/plain": [
       "<Figure size 432x288 with 1 Axes>"
      ]
     },
     "metadata": {
      "needs_background": "light"
     },
     "output_type": "display_data"
    }
   ],
   "source": [
    "#See if outliers present for Shot distances\n",
    "shot_dist = features['SHOT_DIST']\n",
    "shot_dist.plot(kind='box', title = 'Shot Distance Outliers')"
   ]
  },
  {
   "cell_type": "code",
   "execution_count": 101,
   "id": "63b9083c",
   "metadata": {},
   "outputs": [
    {
     "data": {
      "image/png": "[encoded data removed]",
      "text/plain": [
       "<Figure size 432x288 with 1 Axes>"
      ]
     },
     "metadata": {
      "needs_background": "light"
     },
     "output_type": "display_data"
    },
    {
     "data": {
      "image/png": "[encoded data removed]",
      "text/plain": [
       "<Figure size 432x288 with 1 Axes>"
      ]
     },
     "metadata": {
      "needs_background": "light"
     },
     "output_type": "display_data"
    },
    {
     "data": {
      "image/png": "[encoded data removed]",
      "text/plain": [
       "<Figure size 432x288 with 1 Axes>"
      ]
     },
     "metadata": {
      "needs_background": "light"
     },
     "output_type": "display_data"
    },
    {
     "data": {
      "image/png": "[encoded data removed]",
      "text/plain": [
       "<Figure size 432x288 with 1 Axes>"
      ]
     },
     "metadata": {
      "needs_background": "light"
     },
     "output_type": "display_data"
    }
   ],
   "source": [
    "plot_cols = ['SHOT_CLOCK', 'TOUCH_TIME', 'SHOT_DIST', 'CLOSE_DEF_DIST']\n",
    "for col in plot_cols:\n",
    "#     features[col].plot(kind='box', title = f'{col} Outliers')\n",
    "    features[col].hist()\n",
    "    plt.title(f'{col} Histogram')\n",
    "    plt.show()"
   ]
  },
  {
   "cell_type": "code",
   "execution_count": 102,
   "id": "5997a838",
   "metadata": {},
   "outputs": [
    {
     "data": {
      "text/plain": [
       "<AxesSubplot:xlabel='PERIOD'>"
      ]
     },
     "execution_count": 102,
     "metadata": {},
     "output_type": "execute_result"
    },
    {
     "data": {
      "image/png": "[encoded data removed]",
      "text/plain": [
       "<Figure size 432x288 with 1 Axes>"
      ]
     },
     "metadata": {
      "needs_background": "light"
     },
     "output_type": "display_data"
    }
   ],
   "source": [
    "#Shots made based on Period\n",
    "data.groupby(['PERIOD'])['Label'].sum().plot(kind=\"bar\", capsize=10)"
   ]
  },
  {
   "cell_type": "code",
   "execution_count": 103,
   "id": "dcee1ac5",
   "metadata": {},
   "outputs": [
    {
     "data": {
      "image/png": "[encoded data removed]",
      "text/plain": [
       "<Figure size 432x288 with 1 Axes>"
      ]
     },
     "metadata": {
      "needs_background": "light"
     },
     "output_type": "display_data"
    }
   ],
   "source": [
    "#Correlation between Shot clock and touch time\n",
    "x2 = data.plot.scatter(x='SHOT_CLOCK',y='TOUCH_TIME')"
   ]
  },
  {
   "cell_type": "code",
   "execution_count": 104,
   "id": "14525d3d",
   "metadata": {},
   "outputs": [
    {
     "data": {
      "text/plain": [
       "<AxesSubplot:xlabel='PTS_TYPE'>"
      ]
     },
     "execution_count": 104,
     "metadata": {},
     "output_type": "execute_result"
    },
    {
     "data": {
      "image/png": "[encoded data removed]",
      "text/plain": [
       "<Figure size 432x288 with 1 Axes>"
      ]
     },
     "metadata": {
      "needs_background": "light"
     },
     "output_type": "display_data"
    }
   ],
   "source": [
    "#Shots made based on Pts\n",
    "data.groupby(['PTS_TYPE'])['Label'].mean().plot(kind=\"bar\")"
   ]
  },
  {
   "cell_type": "markdown",
   "id": "aad4242c",
   "metadata": {},
   "source": [
    "### C. Feature Engineering"
   ]
  },
  {
   "cell_type": "code",
   "execution_count": 105,
   "id": "50469d8c",
   "metadata": {},
   "outputs": [],
   "source": [
    "# merging PERIOD and GAME_CLOCK into one variable: GAME_TIME\n",
    "def convert_time(row):\n",
    "    total_time = 0.0\n",
    "    if row['PERIOD'] <= 4:\n",
    "        total_time += row['PERIOD'] * 15.0\n",
    "    else:\n",
    "        total_time += 60.0 + (row['PERIOD'] - 4) * 5.0\n",
    "    minutes = float(row['GAME_CLOCK'].split(':')[0])\n",
    "    seconds = float(row['GAME_CLOCK'].split(':')[1]) / 60\n",
    "    total_time -= (minutes + seconds)\n",
    "    return round(total_time, 2)\n",
    "\n",
    "features['GAME_TIME'] = features[['PERIOD', 'GAME_CLOCK']].apply(convert_time, axis=1)"
   ]
  },
  {
   "cell_type": "code",
   "execution_count": 106,
   "id": "f4a010cf",
   "metadata": {},
   "outputs": [],
   "source": [
    "# drop merged columns\n",
    "features = features.drop(labels=['PERIOD', 'GAME_CLOCK'], axis=1)"
   ]
  },
  {
   "cell_type": "code",
   "execution_count": 107,
   "id": "949fa580",
   "metadata": {},
   "outputs": [
    {
     "data": {
      "text/html": [
       "<div>\n",
       "<style scoped>\n",
       "    .dataframe tbody tr th:only-of-type {\n",
       "        vertical-align: middle;\n",
       "    }\n",
       "\n",
       "    .dataframe tbody tr th {\n",
       "        vertical-align: top;\n",
       "    }\n",
       "\n",
       "    .dataframe thead th {\n",
       "        text-align: right;\n",
       "    }\n",
       "</style>\n",
       "<table border=\"1\" class=\"dataframe\">\n",
       "  <thead>\n",
       "    <tr style=\"text-align: right;\">\n",
       "      <th></th>\n",
       "      <th>HOME/AWAY</th>\n",
       "      <th>WIN/LOSS</th>\n",
       "      <th>SHOT_NUMBER</th>\n",
       "      <th>SHOT_CLOCK</th>\n",
       "      <th>TOUCH_TIME</th>\n",
       "      <th>SHOT_DIST</th>\n",
       "      <th>PTS_TYPE</th>\n",
       "      <th>CLOSE_DEF_DIST</th>\n",
       "      <th>player_name</th>\n",
       "      <th>GAME_TIME</th>\n",
       "    </tr>\n",
       "  </thead>\n",
       "  <tbody>\n",
       "    <tr>\n",
       "      <th>0</th>\n",
       "      <td>0</td>\n",
       "      <td>1</td>\n",
       "      <td>1</td>\n",
       "      <td>10.8</td>\n",
       "      <td>1.9</td>\n",
       "      <td>7.7</td>\n",
       "      <td>2</td>\n",
       "      <td>1.3</td>\n",
       "      <td>brian roberts</td>\n",
       "      <td>13.85</td>\n",
       "    </tr>\n",
       "    <tr>\n",
       "      <th>1</th>\n",
       "      <td>0</td>\n",
       "      <td>1</td>\n",
       "      <td>2</td>\n",
       "      <td>3.4</td>\n",
       "      <td>0.8</td>\n",
       "      <td>28.2</td>\n",
       "      <td>3</td>\n",
       "      <td>6.1</td>\n",
       "      <td>brian roberts</td>\n",
       "      <td>14.77</td>\n",
       "    </tr>\n",
       "    <tr>\n",
       "      <th>2</th>\n",
       "      <td>0</td>\n",
       "      <td>1</td>\n",
       "      <td>3</td>\n",
       "      <td>0.0</td>\n",
       "      <td>2.7</td>\n",
       "      <td>10.1</td>\n",
       "      <td>2</td>\n",
       "      <td>0.9</td>\n",
       "      <td>brian roberts</td>\n",
       "      <td>15.00</td>\n",
       "    </tr>\n",
       "    <tr>\n",
       "      <th>3</th>\n",
       "      <td>0</td>\n",
       "      <td>1</td>\n",
       "      <td>4</td>\n",
       "      <td>10.3</td>\n",
       "      <td>1.9</td>\n",
       "      <td>17.2</td>\n",
       "      <td>2</td>\n",
       "      <td>3.4</td>\n",
       "      <td>brian roberts</td>\n",
       "      <td>18.22</td>\n",
       "    </tr>\n",
       "    <tr>\n",
       "      <th>4</th>\n",
       "      <td>0</td>\n",
       "      <td>1</td>\n",
       "      <td>5</td>\n",
       "      <td>10.9</td>\n",
       "      <td>2.7</td>\n",
       "      <td>3.7</td>\n",
       "      <td>2</td>\n",
       "      <td>1.1</td>\n",
       "      <td>brian roberts</td>\n",
       "      <td>19.43</td>\n",
       "    </tr>\n",
       "  </tbody>\n",
       "</table>\n",
       "</div>"
      ],
      "text/plain": [
       "   HOME/AWAY  WIN/LOSS  SHOT_NUMBER  SHOT_CLOCK  TOUCH_TIME  SHOT_DIST  \\\n",
       "0          0         1            1        10.8         1.9        7.7   \n",
       "1          0         1            2         3.4         0.8       28.2   \n",
       "2          0         1            3         0.0         2.7       10.1   \n",
       "3          0         1            4        10.3         1.9       17.2   \n",
       "4          0         1            5        10.9         2.7        3.7   \n",
       "\n",
       "   PTS_TYPE  CLOSE_DEF_DIST    player_name  GAME_TIME  \n",
       "0         2             1.3  brian roberts      13.85  \n",
       "1         3             6.1  brian roberts      14.77  \n",
       "2         2             0.9  brian roberts      15.00  \n",
       "3         2             3.4  brian roberts      18.22  \n",
       "4         2             1.1  brian roberts      19.43  "
      ]
     },
     "execution_count": 107,
     "metadata": {},
     "output_type": "execute_result"
    }
   ],
   "source": [
    "features.head()"
   ]
  },
  {
   "cell_type": "code",
   "execution_count": 108,
   "id": "64d6e312",
   "metadata": {},
   "outputs": [
    {
     "name": "stderr",
     "output_type": "stream",
     "text": [
      "/var/folders/kn/65gns3dx5651dx7dw03j_xjm0000gn/T/ipykernel_5546/3563187599.py:4: SettingWithCopyWarning: \n",
      "A value is trying to be set on a copy of a slice from a DataFrame.\n",
      "Try using .loc[row_indexer,col_indexer] = value instead\n",
      "\n",
      "See the caveats in the documentation: https://pandas.pydata.org/pandas-docs/stable/user_guide/indexing.html#returning-a-view-versus-a-copy\n",
      "  players_2013['player_name'] = players_2013['player_name'].apply(lambda x: x.lower())\n"
     ]
    }
   ],
   "source": [
    "# add more player features\n",
    "players = pd.read_csv('all_seasons.csv')\n",
    "players_2013 = players[players['season'] == '2013-14']\n",
    "players_2013['player_name'] = players_2013['player_name'].apply(lambda x: x.lower())\n",
    "pts_mean = players_2013['pts'].mean()\n",
    "shot_effic_mean = players_2013['ts_pct'].mean()\n",
    "\n",
    "pts = []\n",
    "ts_pct = []\n",
    "for index, row in features.iterrows():\n",
    "    cur_player = players_2013[players_2013['player_name'] == row['player_name']]\n",
    "    if cur_player.shape[0] > 0:\n",
    "        pts.append(cur_player['pts'].iloc[0])\n",
    "        ts_pct.append(cur_player['ts_pct'].iloc[0])\n",
    "    else:\n",
    "        pts.append(pts_mean)\n",
    "        ts_pct.append(shot_effic_mean)\n",
    "\n",
    "features['PLAYER_AVG_PTS_13'] = pts\n",
    "features['PLAYER_SHOT_EFFIC_13'] = ts_pct"
   ]
  },
  {
   "cell_type": "code",
   "execution_count": 109,
   "id": "993d73de",
   "metadata": {},
   "outputs": [
    {
     "data": {
      "text/html": [
       "<div>\n",
       "<style scoped>\n",
       "    .dataframe tbody tr th:only-of-type {\n",
       "        vertical-align: middle;\n",
       "    }\n",
       "\n",
       "    .dataframe tbody tr th {\n",
       "        vertical-align: top;\n",
       "    }\n",
       "\n",
       "    .dataframe thead th {\n",
       "        text-align: right;\n",
       "    }\n",
       "</style>\n",
       "<table border=\"1\" class=\"dataframe\">\n",
       "  <thead>\n",
       "    <tr style=\"text-align: right;\">\n",
       "      <th></th>\n",
       "      <th>HOME/AWAY</th>\n",
       "      <th>WIN/LOSS</th>\n",
       "      <th>SHOT_NUMBER</th>\n",
       "      <th>SHOT_CLOCK</th>\n",
       "      <th>TOUCH_TIME</th>\n",
       "      <th>SHOT_DIST</th>\n",
       "      <th>PTS_TYPE</th>\n",
       "      <th>CLOSE_DEF_DIST</th>\n",
       "      <th>GAME_TIME</th>\n",
       "      <th>PLAYER_AVG_PTS_13</th>\n",
       "      <th>PLAYER_SHOT_EFFIC_13</th>\n",
       "    </tr>\n",
       "  </thead>\n",
       "  <tbody>\n",
       "    <tr>\n",
       "      <th>0</th>\n",
       "      <td>0</td>\n",
       "      <td>1</td>\n",
       "      <td>1</td>\n",
       "      <td>10.8</td>\n",
       "      <td>1.9</td>\n",
       "      <td>7.7</td>\n",
       "      <td>2</td>\n",
       "      <td>1.3</td>\n",
       "      <td>13.85</td>\n",
       "      <td>9.4</td>\n",
       "      <td>0.529</td>\n",
       "    </tr>\n",
       "    <tr>\n",
       "      <th>1</th>\n",
       "      <td>0</td>\n",
       "      <td>1</td>\n",
       "      <td>2</td>\n",
       "      <td>3.4</td>\n",
       "      <td>0.8</td>\n",
       "      <td>28.2</td>\n",
       "      <td>3</td>\n",
       "      <td>6.1</td>\n",
       "      <td>14.77</td>\n",
       "      <td>9.4</td>\n",
       "      <td>0.529</td>\n",
       "    </tr>\n",
       "    <tr>\n",
       "      <th>2</th>\n",
       "      <td>0</td>\n",
       "      <td>1</td>\n",
       "      <td>3</td>\n",
       "      <td>0.0</td>\n",
       "      <td>2.7</td>\n",
       "      <td>10.1</td>\n",
       "      <td>2</td>\n",
       "      <td>0.9</td>\n",
       "      <td>15.00</td>\n",
       "      <td>9.4</td>\n",
       "      <td>0.529</td>\n",
       "    </tr>\n",
       "    <tr>\n",
       "      <th>3</th>\n",
       "      <td>0</td>\n",
       "      <td>1</td>\n",
       "      <td>4</td>\n",
       "      <td>10.3</td>\n",
       "      <td>1.9</td>\n",
       "      <td>17.2</td>\n",
       "      <td>2</td>\n",
       "      <td>3.4</td>\n",
       "      <td>18.22</td>\n",
       "      <td>9.4</td>\n",
       "      <td>0.529</td>\n",
       "    </tr>\n",
       "    <tr>\n",
       "      <th>4</th>\n",
       "      <td>0</td>\n",
       "      <td>1</td>\n",
       "      <td>5</td>\n",
       "      <td>10.9</td>\n",
       "      <td>2.7</td>\n",
       "      <td>3.7</td>\n",
       "      <td>2</td>\n",
       "      <td>1.1</td>\n",
       "      <td>19.43</td>\n",
       "      <td>9.4</td>\n",
       "      <td>0.529</td>\n",
       "    </tr>\n",
       "  </tbody>\n",
       "</table>\n",
       "</div>"
      ],
      "text/plain": [
       "   HOME/AWAY  WIN/LOSS  SHOT_NUMBER  SHOT_CLOCK  TOUCH_TIME  SHOT_DIST  \\\n",
       "0          0         1            1        10.8         1.9        7.7   \n",
       "1          0         1            2         3.4         0.8       28.2   \n",
       "2          0         1            3         0.0         2.7       10.1   \n",
       "3          0         1            4        10.3         1.9       17.2   \n",
       "4          0         1            5        10.9         2.7        3.7   \n",
       "\n",
       "   PTS_TYPE  CLOSE_DEF_DIST  GAME_TIME  PLAYER_AVG_PTS_13  \\\n",
       "0         2             1.3      13.85                9.4   \n",
       "1         3             6.1      14.77                9.4   \n",
       "2         2             0.9      15.00                9.4   \n",
       "3         2             3.4      18.22                9.4   \n",
       "4         2             1.1      19.43                9.4   \n",
       "\n",
       "   PLAYER_SHOT_EFFIC_13  \n",
       "0                 0.529  \n",
       "1                 0.529  \n",
       "2                 0.529  \n",
       "3                 0.529  \n",
       "4                 0.529  "
      ]
     },
     "execution_count": 109,
     "metadata": {},
     "output_type": "execute_result"
    }
   ],
   "source": [
    "features = features.drop(labels='player_name', axis=1)\n",
    "features.head()"
   ]
  },
  {
   "cell_type": "markdown",
   "id": "5df3ca69",
   "metadata": {},
   "source": [
    "### D. Data Analysis"
   ]
  },
  {
   "cell_type": "markdown",
   "id": "3a2a07ef",
   "metadata": {},
   "source": [
    "#### i. K-Nearest Neighbors"
   ]
  },
  {
   "cell_type": "code",
   "execution_count": 110,
   "id": "3fc89cf5",
   "metadata": {},
   "outputs": [
    {
     "name": "stdout",
     "output_type": "stream",
     "text": [
      "{'KNN__n_neighbors': 24, 'PCA__n_components': 10}\n",
      "Accuracy: 57.739999999999995\n"
     ]
    }
   ],
   "source": [
    "from sklearn.preprocessing import StandardScaler\n",
    "from sklearn.decomposition import PCA\n",
    "from sklearn.neighbors import KNeighborsClassifier\n",
    "from sklearn.pipeline import Pipeline\n",
    "from sklearn.model_selection import GridSearchCV\n",
    "\n",
    "scaler = StandardScaler()\n",
    "pca = PCA()\n",
    "clf = KNeighborsClassifier(n_neighbors=7)\n",
    "pipeline = Pipeline(steps=[('scaler', scaler), ('PCA', pca), ('KNN', clf)])\n",
    "param_grid = {\n",
    "    'PCA__n_components': list(range(5, 11)),\n",
    "    'KNN__n_neighbors': list(range(1, 25))\n",
    "}\n",
    "\n",
    "features = features.iloc[0:5000]\n",
    "labels = labels.iloc[0:5000]\n",
    "\n",
    "grid_search = GridSearchCV(pipeline, param_grid, cv=5, scoring='accuracy')\n",
    "grid_search.fit(features, labels)\n",
    "print(grid_search.best_params_)\n",
    "print(\"Accuracy:\", grid_search.best_score_*100)"
   ]
  },
  {
   "cell_type": "markdown",
   "id": "0dacd187",
   "metadata": {},
   "source": [
    "#### ii. SVM"
   ]
  },
  {
   "cell_type": "code",
   "execution_count": 111,
   "id": "63a87a4c",
   "metadata": {},
   "outputs": [
    {
     "name": "stdout",
     "output_type": "stream",
     "text": [
      "              precision    recall  f1-score   support\n",
      "\n",
      "           0       0.61      0.81      0.69      2847\n",
      "           1       0.54      0.31      0.39      2153\n",
      "\n",
      "    accuracy                           0.59      5000\n",
      "   macro avg       0.57      0.56      0.54      5000\n",
      "weighted avg       0.58      0.59      0.56      5000\n",
      "\n"
     ]
    }
   ],
   "source": [
    "from sklearn.svm import SVC\n",
    "from sklearn.model_selection import cross_val_predict\n",
    "from sklearn.metrics import confusion_matrix, classification_report\n",
    "\n",
    "pipeline = Pipeline(steps=[('scaler', StandardScaler()), ('PCA', PCA()), ('SVM', SVC())])\n",
    "param_grid = {\n",
    "    'PCA__n_components': list(range(5, 11)),\n",
    "    'SVM__kernel': ['linear', 'rbf', 'poly']\n",
    "}\n",
    "\n",
    "grid_search = GridSearchCV(pipeline, param_grid, cv=5, scoring='accuracy')\n",
    "pred = cross_val_predict(grid_search, features, labels, cv=5)\n",
    "clas_report = classification_report(labels, pred)\n",
    "\n",
    "print(clas_report)"
   ]
  },
  {
   "cell_type": "markdown",
   "id": "b33b4a9c",
   "metadata": {},
   "source": [
    "#### iii. Neural Network"
   ]
  },
  {
   "cell_type": "markdown",
   "id": "57dd9ae0",
   "metadata": {},
   "source": [
    "#### iv. Random Forest"
   ]
  },
  {
   "cell_type": "code",
   "execution_count": null,
   "id": "104db215",
   "metadata": {},
   "outputs": [],
   "source": []
  }
 ],
 "metadata": {
  "kernelspec": {
   "display_name": "Python 3 (ipykernel)",
   "language": "python",
   "name": "python3"
  },
  "language_info": {
   "codemirror_mode": {
    "name": "ipython",
    "version": 3
   },
   "file_extension": ".py",
   "mimetype": "text/x-python",
   "name": "python",
   "nbconvert_exporter": "python",
   "pygments_lexer": "ipython3",
   "version": "3.8.12"
  }
 },
 "nbformat": 4,
 "nbformat_minor": 5
}
